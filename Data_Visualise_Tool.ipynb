{
  "nbformat": 4,
  "nbformat_minor": 0,
  "metadata": {
    "colab": {
      "provenance": []
    },
    "kernelspec": {
      "name": "python3",
      "display_name": "Python 3"
    },
    "language_info": {
      "name": "python"
    }
  },
  "cells": [
    {
      "cell_type": "code",
      "execution_count": null,
      "metadata": {
        "colab": {
          "base_uri": "https://localhost:8080/"
        },
        "id": "rHmmuE0hysKH",
        "outputId": "7ae17737-0731-4ec8-9dad-14691e29b872"
      },
      "outputs": [
        {
          "output_type": "stream",
          "name": "stderr",
          "text": [
            "/usr/local/lib/python3.11/dist-packages/keras/src/layers/core/embedding.py:90: UserWarning: Argument `input_length` is deprecated. Just remove it.\n",
            "  warnings.warn(\n"
          ]
        },
        {
          "output_type": "stream",
          "name": "stdout",
          "text": [
            "Epoch 1/30\n",
            "\u001b[1m1/1\u001b[0m \u001b[32m━━━━━━━━━━━━━━━━━━━━\u001b[0m\u001b[37m\u001b[0m \u001b[1m4s\u001b[0m 4s/step - accuracy: 0.1667 - loss: 0.6925 - val_accuracy: 0.0000e+00 - val_loss: 0.6903\n",
            "Epoch 2/30\n",
            "\u001b[1m1/1\u001b[0m \u001b[32m━━━━━━━━━━━━━━━━━━━━\u001b[0m\u001b[37m\u001b[0m \u001b[1m0s\u001b[0m 198ms/step - accuracy: 0.1667 - loss: 0.6882 - val_accuracy: 0.0000e+00 - val_loss: 0.6875\n",
            "Epoch 3/30\n",
            "\u001b[1m1/1\u001b[0m \u001b[32m━━━━━━━━━━━━━━━━━━━━\u001b[0m\u001b[37m\u001b[0m \u001b[1m0s\u001b[0m 172ms/step - accuracy: 0.1667 - loss: 0.6839 - val_accuracy: 0.0000e+00 - val_loss: 0.6845\n",
            "Epoch 4/30\n",
            "\u001b[1m1/1\u001b[0m \u001b[32m━━━━━━━━━━━━━━━━━━━━\u001b[0m\u001b[37m\u001b[0m \u001b[1m0s\u001b[0m 196ms/step - accuracy: 0.1667 - loss: 0.6790 - val_accuracy: 0.0000e+00 - val_loss: 0.6812\n",
            "Epoch 5/30\n",
            "\u001b[1m1/1\u001b[0m \u001b[32m━━━━━━━━━━━━━━━━━━━━\u001b[0m\u001b[37m\u001b[0m \u001b[1m0s\u001b[0m 212ms/step - accuracy: 0.1667 - loss: 0.6735 - val_accuracy: 0.0000e+00 - val_loss: 0.6774\n",
            "Epoch 6/30\n",
            "\u001b[1m1/1\u001b[0m \u001b[32m━━━━━━━━━━━━━━━━━━━━\u001b[0m\u001b[37m\u001b[0m \u001b[1m0s\u001b[0m 110ms/step - accuracy: 0.1667 - loss: 0.6670 - val_accuracy: 0.0000e+00 - val_loss: 0.6731\n",
            "Epoch 7/30\n",
            "\u001b[1m1/1\u001b[0m \u001b[32m━━━━━━━━━━━━━━━━━━━━\u001b[0m\u001b[37m\u001b[0m \u001b[1m0s\u001b[0m 138ms/step - accuracy: 0.1667 - loss: 0.6594 - val_accuracy: 0.0000e+00 - val_loss: 0.6684\n",
            "Epoch 8/30\n",
            "\u001b[1m1/1\u001b[0m \u001b[32m━━━━━━━━━━━━━━━━━━━━\u001b[0m\u001b[37m\u001b[0m \u001b[1m0s\u001b[0m 136ms/step - accuracy: 0.1667 - loss: 0.6506 - val_accuracy: 0.0000e+00 - val_loss: 0.6632\n",
            "Epoch 9/30\n",
            "\u001b[1m1/1\u001b[0m \u001b[32m━━━━━━━━━━━━━━━━━━━━\u001b[0m\u001b[37m\u001b[0m \u001b[1m0s\u001b[0m 105ms/step - accuracy: 0.1667 - loss: 0.6404 - val_accuracy: 0.0000e+00 - val_loss: 0.6577\n",
            "Epoch 10/30\n",
            "\u001b[1m1/1\u001b[0m \u001b[32m━━━━━━━━━━━━━━━━━━━━\u001b[0m\u001b[37m\u001b[0m \u001b[1m0s\u001b[0m 144ms/step - accuracy: 0.1667 - loss: 0.6287 - val_accuracy: 0.0000e+00 - val_loss: 0.6519\n",
            "Epoch 11/30\n",
            "\u001b[1m1/1\u001b[0m \u001b[32m━━━━━━━━━━━━━━━━━━━━\u001b[0m\u001b[37m\u001b[0m \u001b[1m0s\u001b[0m 106ms/step - accuracy: 0.1667 - loss: 0.6156 - val_accuracy: 0.0000e+00 - val_loss: 0.6462\n",
            "Epoch 12/30\n",
            "\u001b[1m1/1\u001b[0m \u001b[32m━━━━━━━━━━━━━━━━━━━━\u001b[0m\u001b[37m\u001b[0m \u001b[1m0s\u001b[0m 141ms/step - accuracy: 0.1667 - loss: 0.6012 - val_accuracy: 0.0000e+00 - val_loss: 0.6409\n",
            "Epoch 13/30\n",
            "\u001b[1m1/1\u001b[0m \u001b[32m━━━━━━━━━━━━━━━━━━━━\u001b[0m\u001b[37m\u001b[0m \u001b[1m0s\u001b[0m 142ms/step - accuracy: 0.1667 - loss: 0.5856 - val_accuracy: 0.0000e+00 - val_loss: 0.6369\n",
            "Epoch 14/30\n",
            "\u001b[1m1/1\u001b[0m \u001b[32m━━━━━━━━━━━━━━━━━━━━\u001b[0m\u001b[37m\u001b[0m \u001b[1m0s\u001b[0m 136ms/step - accuracy: 0.1667 - loss: 0.5692 - val_accuracy: 0.0000e+00 - val_loss: 0.6349\n",
            "Epoch 15/30\n",
            "\u001b[1m1/1\u001b[0m \u001b[32m━━━━━━━━━━━━━━━━━━━━\u001b[0m\u001b[37m\u001b[0m \u001b[1m0s\u001b[0m 106ms/step - accuracy: 0.1667 - loss: 0.5527 - val_accuracy: 0.0000e+00 - val_loss: 0.6360\n",
            "Epoch 16/30\n",
            "\u001b[1m1/1\u001b[0m \u001b[32m━━━━━━━━━━━━━━━━━━━━\u001b[0m\u001b[37m\u001b[0m \u001b[1m0s\u001b[0m 144ms/step - accuracy: 0.1667 - loss: 0.5370 - val_accuracy: 0.0000e+00 - val_loss: 0.6414\n",
            "Epoch 17/30\n",
            "\u001b[1m1/1\u001b[0m \u001b[32m━━━━━━━━━━━━━━━━━━━━\u001b[0m\u001b[37m\u001b[0m \u001b[1m0s\u001b[0m 106ms/step - accuracy: 0.1667 - loss: 0.5229 - val_accuracy: 0.0000e+00 - val_loss: 0.6521\n",
            "\u001b[1m1/1\u001b[0m \u001b[32m━━━━━━━━━━━━━━━━━━━━\u001b[0m\u001b[37m\u001b[0m \u001b[1m0s\u001b[0m 109ms/step\n",
            "📊 Classification Report:\n",
            "              precision    recall  f1-score   support\n",
            "\n",
            "        cost       0.00      0.00      0.00         1\n",
            "    expenses       0.00      0.00      0.00         0\n",
            "       month       0.00      0.00      0.00         0\n",
            "       price       0.00      0.00      0.00         0\n",
            "      profit       0.00      0.00      0.00         1\n",
            "     quarter       0.00      0.00      0.00         1\n",
            "     revenue       1.00      1.00      1.00         1\n",
            "       sales       0.00      0.00      0.00         1\n",
            "       units       0.00      0.00      0.00         0\n",
            "        week       0.00      0.00      0.00         1\n",
            "        year       0.00      0.00      0.00         0\n",
            "\n",
            "   micro avg       1.00      0.17      0.29         6\n",
            "   macro avg       0.09      0.09      0.09         6\n",
            "weighted avg       0.17      0.17      0.17         6\n",
            " samples avg       0.50      0.12      0.20         6\n",
            "\n"
          ]
        },
        {
          "output_type": "stream",
          "name": "stderr",
          "text": [
            "/usr/local/lib/python3.11/dist-packages/sklearn/metrics/_classification.py:1565: UndefinedMetricWarning: Precision is ill-defined and being set to 0.0 in labels with no predicted samples. Use `zero_division` parameter to control this behavior.\n",
            "  _warn_prf(average, modifier, f\"{metric.capitalize()} is\", len(result))\n",
            "/usr/local/lib/python3.11/dist-packages/sklearn/metrics/_classification.py:1565: UndefinedMetricWarning: Recall is ill-defined and being set to 0.0 in labels with no true samples. Use `zero_division` parameter to control this behavior.\n",
            "  _warn_prf(average, modifier, f\"{metric.capitalize()} is\", len(result))\n",
            "/usr/local/lib/python3.11/dist-packages/sklearn/metrics/_classification.py:1565: UndefinedMetricWarning: F-score is ill-defined and being set to 0.0 in labels with no true nor predicted samples. Use `zero_division` parameter to control this behavior.\n",
            "  _warn_prf(average, modifier, f\"{metric.capitalize()} is\", len(result))\n",
            "/usr/local/lib/python3.11/dist-packages/sklearn/metrics/_classification.py:1565: UndefinedMetricWarning: Precision is ill-defined and being set to 0.0 in samples with no predicted labels. Use `zero_division` parameter to control this behavior.\n",
            "  _warn_prf(average, modifier, f\"{metric.capitalize()} is\", len(result))\n"
          ]
        }
      ],
      "source": [
        "import numpy as np\n",
        "import pandas as pd\n",
        "from sklearn.preprocessing import MultiLabelBinarizer\n",
        "from tensorflow.keras.preprocessing.text import Tokenizer\n",
        "from tensorflow.keras.preprocessing.sequence import pad_sequences\n",
        "from tensorflow.keras.models import Sequential\n",
        "from tensorflow.keras.layers import Dense, Embedding, GlobalAveragePooling1D\n",
        "from tensorflow.keras.callbacks import EarlyStopping\n",
        "from sklearn.model_selection import train_test_split\n",
        "from sklearn.metrics import classification_report, f1_score\n",
        "\n",
        "# 1. Dataset\n",
        "data = [\n",
        "    {\"prompt\": \"Predict next month’s revenue and profit\", \"labels\": [\"revenue\", \"profit\", \"month\"]},\n",
        "    {\"prompt\": \"Forecast sales for each quarter\", \"labels\": [\"sales\", \"quarter\"]},\n",
        "    {\"prompt\": \"How are expenses changing over the year?\", \"labels\": [\"expenses\", \"year\"]},\n",
        "    {\"prompt\": \"Show profit and cost trends by month\", \"labels\": [\"profit\", \"cost\", \"month\"]},\n",
        "    {\"prompt\": \"Predict unit sales per week\", \"labels\": [\"units\", \"sales\", \"week\"]},\n",
        "    {\"prompt\": \"Calculate revenue from last year\", \"labels\": [\"revenue\", \"year\"]},\n",
        "    {\"prompt\": \"Estimate price fluctuation over months\", \"labels\": [\"price\", \"month\"]},\n",
        "    {\"prompt\": \"Analyze cost and revenue in Q1\", \"labels\": [\"cost\", \"revenue\", \"quarter\"]},\n",
        "    {\"prompt\": \"Give me the profit, cost and revenue details for each week\", \"labels\": [\"profit\", \"cost\", \"revenue\", \"week\"]},\n",
        "    {\"prompt\": \"Generate a report of unit sales in the second quarter\", \"labels\": [\"units\", \"sales\", \"quarter\"]},\n",
        "]\n",
        "\n",
        "# 2. Prepare data\n",
        "df = pd.DataFrame(data)\n",
        "X = df[\"prompt\"].values\n",
        "y = df[\"labels\"].values\n",
        "\n",
        "# 3. Tokenize prompts\n",
        "tokenizer = Tokenizer()\n",
        "tokenizer.fit_on_texts(X)\n",
        "X_seq = tokenizer.texts_to_sequences(X)\n",
        "max_len = max(len(x) for x in X_seq)\n",
        "X_pad = pad_sequences(X_seq, maxlen=max_len)\n",
        "\n",
        "# 4. Encode labels\n",
        "mlb = MultiLabelBinarizer()\n",
        "y_enc = mlb.fit_transform(y)\n",
        "\n",
        "# 5. Train/Test split\n",
        "X_train, X_test, y_train, y_test = train_test_split(X_pad, y_enc, test_size=0.2, random_state=42)\n",
        "\n",
        "# 6. Build the model\n",
        "model = Sequential([\n",
        "    Embedding(input_dim=len(tokenizer.word_index)+1, output_dim=64, input_length=max_len),\n",
        "    GlobalAveragePooling1D(),\n",
        "    Dense(256, activation='relu'),\n",
        "    Dense(128, activation='relu'),\n",
        "    Dense(64, activation='tanh'),\n",
        "    Dense(len(mlb.classes_), activation='sigmoid')  # multi-label\n",
        "])\n",
        "\n",
        "model.compile(optimizer='adam', loss='binary_crossentropy', metrics=['accuracy'])\n",
        "\n",
        "# 7. Train the model\n",
        "history = model.fit(\n",
        "    X_train, y_train,\n",
        "    epochs=30,\n",
        "    batch_size=8,\n",
        "    validation_split=0.2,\n",
        "    callbacks=[EarlyStopping(patience=3, restore_best_weights=True)]\n",
        ")\n",
        "\n",
        "# 8. Evaluate\n",
        "y_pred = model.predict(X_test)\n",
        "y_pred_bin = (y_pred > 0.5).astype(int)\n",
        "\n",
        "print(\"📊 Classification Report:\")\n",
        "print(classification_report(y_test, y_pred_bin, target_names=mlb.classes_))\n"
      ]
    },
    {
      "cell_type": "code",
      "source": [
        "\n",
        "# 🔒 Save the model + tokenizer + label binarizer\n",
        "model.save(\"predict_model.h5\")\n",
        "import pickle\n",
        "with open(\"tokenizer.pkl\", \"wb\") as f: pickle.dump(tokenizer, f)\n",
        "with open(\"label_binarizer.pkl\", \"wb\") as f: pickle.dump(mlb, f)"
      ],
      "metadata": {
        "id": "ywh5pGFT0Ecs"
      },
      "execution_count": null,
      "outputs": []
    }
  ]
}