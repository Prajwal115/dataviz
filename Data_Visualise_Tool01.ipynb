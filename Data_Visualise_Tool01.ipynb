{
  "nbformat": 4,
  "nbformat_minor": 0,
  "metadata": {
    "colab": {
      "provenance": []
    },
    "kernelspec": {
      "name": "python3",
      "display_name": "Python 3"
    },
    "language_info": {
      "name": "python"
    }
  },
  "cells": [
    {
      "cell_type": "code",
      "execution_count": null,
      "metadata": {
        "colab": {
          "base_uri": "https://localhost:8080/",
          "height": 1000
        },
        "id": "FaCdzfEhZ6oI",
        "outputId": "0c6319f0-faaa-46c9-a3cb-3290b4f1dd0e"
      },
      "outputs": [
        {
          "output_type": "stream",
          "name": "stderr",
          "text": [
            "/usr/local/lib/python3.11/dist-packages/keras/src/layers/core/embedding.py:90: UserWarning: Argument `input_length` is deprecated. Just remove it.\n",
            "  warnings.warn(\n"
          ]
        },
        {
          "output_type": "display_data",
          "data": {
            "text/plain": [
              "\u001b[1mModel: \"sequential_6\"\u001b[0m\n"
            ],
            "text/html": [
              "<pre style=\"white-space:pre;overflow-x:auto;line-height:normal;font-family:Menlo,'DejaVu Sans Mono',consolas,'Courier New',monospace\"><span style=\"font-weight: bold\">Model: \"sequential_6\"</span>\n",
              "</pre>\n"
            ]
          },
          "metadata": {}
        },
        {
          "output_type": "display_data",
          "data": {
            "text/plain": [
              "┏━━━━━━━━━━━━━━━━━━━━━━━━━━━━━━━━━━━━━━┳━━━━━━━━━━━━━━━━━━━━━━━━━━━━━┳━━━━━━━━━━━━━━━━━┓\n",
              "┃\u001b[1m \u001b[0m\u001b[1mLayer (type)                        \u001b[0m\u001b[1m \u001b[0m┃\u001b[1m \u001b[0m\u001b[1mOutput Shape               \u001b[0m\u001b[1m \u001b[0m┃\u001b[1m \u001b[0m\u001b[1m        Param #\u001b[0m\u001b[1m \u001b[0m┃\n",
              "┡━━━━━━━━━━━━━━━━━━━━━━━━━━━━━━━━━━━━━━╇━━━━━━━━━━━━━━━━━━━━━━━━━━━━━╇━━━━━━━━━━━━━━━━━┩\n",
              "│ embedding_6 (\u001b[38;5;33mEmbedding\u001b[0m)              │ ?                           │     \u001b[38;5;34m0\u001b[0m (unbuilt) │\n",
              "├──────────────────────────────────────┼─────────────────────────────┼─────────────────┤\n",
              "│ lstm_6 (\u001b[38;5;33mLSTM\u001b[0m)                        │ ?                           │     \u001b[38;5;34m0\u001b[0m (unbuilt) │\n",
              "├──────────────────────────────────────┼─────────────────────────────┼─────────────────┤\n",
              "│ dense_14 (\u001b[38;5;33mDense\u001b[0m)                     │ ?                           │     \u001b[38;5;34m0\u001b[0m (unbuilt) │\n",
              "├──────────────────────────────────────┼─────────────────────────────┼─────────────────┤\n",
              "│ dense_15 (\u001b[38;5;33mDense\u001b[0m)                     │ ?                           │     \u001b[38;5;34m0\u001b[0m (unbuilt) │\n",
              "├──────────────────────────────────────┼─────────────────────────────┼─────────────────┤\n",
              "│ dense_16 (\u001b[38;5;33mDense\u001b[0m)                     │ ?                           │     \u001b[38;5;34m0\u001b[0m (unbuilt) │\n",
              "└──────────────────────────────────────┴─────────────────────────────┴─────────────────┘\n"
            ],
            "text/html": [
              "<pre style=\"white-space:pre;overflow-x:auto;line-height:normal;font-family:Menlo,'DejaVu Sans Mono',consolas,'Courier New',monospace\">┏━━━━━━━━━━━━━━━━━━━━━━━━━━━━━━━━━━━━━━┳━━━━━━━━━━━━━━━━━━━━━━━━━━━━━┳━━━━━━━━━━━━━━━━━┓\n",
              "┃<span style=\"font-weight: bold\"> Layer (type)                         </span>┃<span style=\"font-weight: bold\"> Output Shape                </span>┃<span style=\"font-weight: bold\">         Param # </span>┃\n",
              "┡━━━━━━━━━━━━━━━━━━━━━━━━━━━━━━━━━━━━━━╇━━━━━━━━━━━━━━━━━━━━━━━━━━━━━╇━━━━━━━━━━━━━━━━━┩\n",
              "│ embedding_6 (<span style=\"color: #0087ff; text-decoration-color: #0087ff\">Embedding</span>)              │ ?                           │     <span style=\"color: #00af00; text-decoration-color: #00af00\">0</span> (unbuilt) │\n",
              "├──────────────────────────────────────┼─────────────────────────────┼─────────────────┤\n",
              "│ lstm_6 (<span style=\"color: #0087ff; text-decoration-color: #0087ff\">LSTM</span>)                        │ ?                           │     <span style=\"color: #00af00; text-decoration-color: #00af00\">0</span> (unbuilt) │\n",
              "├──────────────────────────────────────┼─────────────────────────────┼─────────────────┤\n",
              "│ dense_14 (<span style=\"color: #0087ff; text-decoration-color: #0087ff\">Dense</span>)                     │ ?                           │     <span style=\"color: #00af00; text-decoration-color: #00af00\">0</span> (unbuilt) │\n",
              "├──────────────────────────────────────┼─────────────────────────────┼─────────────────┤\n",
              "│ dense_15 (<span style=\"color: #0087ff; text-decoration-color: #0087ff\">Dense</span>)                     │ ?                           │     <span style=\"color: #00af00; text-decoration-color: #00af00\">0</span> (unbuilt) │\n",
              "├──────────────────────────────────────┼─────────────────────────────┼─────────────────┤\n",
              "│ dense_16 (<span style=\"color: #0087ff; text-decoration-color: #0087ff\">Dense</span>)                     │ ?                           │     <span style=\"color: #00af00; text-decoration-color: #00af00\">0</span> (unbuilt) │\n",
              "└──────────────────────────────────────┴─────────────────────────────┴─────────────────┘\n",
              "</pre>\n"
            ]
          },
          "metadata": {}
        },
        {
          "output_type": "display_data",
          "data": {
            "text/plain": [
              "\u001b[1m Total params: \u001b[0m\u001b[38;5;34m0\u001b[0m (0.00 B)\n"
            ],
            "text/html": [
              "<pre style=\"white-space:pre;overflow-x:auto;line-height:normal;font-family:Menlo,'DejaVu Sans Mono',consolas,'Courier New',monospace\"><span style=\"font-weight: bold\"> Total params: </span><span style=\"color: #00af00; text-decoration-color: #00af00\">0</span> (0.00 B)\n",
              "</pre>\n"
            ]
          },
          "metadata": {}
        },
        {
          "output_type": "display_data",
          "data": {
            "text/plain": [
              "\u001b[1m Trainable params: \u001b[0m\u001b[38;5;34m0\u001b[0m (0.00 B)\n"
            ],
            "text/html": [
              "<pre style=\"white-space:pre;overflow-x:auto;line-height:normal;font-family:Menlo,'DejaVu Sans Mono',consolas,'Courier New',monospace\"><span style=\"font-weight: bold\"> Trainable params: </span><span style=\"color: #00af00; text-decoration-color: #00af00\">0</span> (0.00 B)\n",
              "</pre>\n"
            ]
          },
          "metadata": {}
        },
        {
          "output_type": "display_data",
          "data": {
            "text/plain": [
              "\u001b[1m Non-trainable params: \u001b[0m\u001b[38;5;34m0\u001b[0m (0.00 B)\n"
            ],
            "text/html": [
              "<pre style=\"white-space:pre;overflow-x:auto;line-height:normal;font-family:Menlo,'DejaVu Sans Mono',consolas,'Courier New',monospace\"><span style=\"font-weight: bold\"> Non-trainable params: </span><span style=\"color: #00af00; text-decoration-color: #00af00\">0</span> (0.00 B)\n",
              "</pre>\n"
            ]
          },
          "metadata": {}
        },
        {
          "output_type": "stream",
          "name": "stdout",
          "text": [
            "Epoch 1/30\n",
            "\u001b[1m3/3\u001b[0m \u001b[32m━━━━━━━━━━━━━━━━━━━━\u001b[0m\u001b[37m\u001b[0m \u001b[1m3s\u001b[0m 28ms/step - accuracy: 0.3692 - loss: 1.0987\n",
            "Epoch 2/30\n",
            "\u001b[1m3/3\u001b[0m \u001b[32m━━━━━━━━━━━━━━━━━━━━\u001b[0m\u001b[37m\u001b[0m \u001b[1m0s\u001b[0m 27ms/step - accuracy: 0.3737 - loss: 1.0972\n",
            "Epoch 3/30\n",
            "\u001b[1m3/3\u001b[0m \u001b[32m━━━━━━━━━━━━━━━━━━━━\u001b[0m\u001b[37m\u001b[0m \u001b[1m0s\u001b[0m 27ms/step - accuracy: 0.4042 - loss: 1.0964\n",
            "Epoch 4/30\n",
            "\u001b[1m3/3\u001b[0m \u001b[32m━━━━━━━━━━━━━━━━━━━━\u001b[0m\u001b[37m\u001b[0m \u001b[1m0s\u001b[0m 27ms/step - accuracy: 0.5496 - loss: 1.0927\n",
            "Epoch 5/30\n",
            "\u001b[1m3/3\u001b[0m \u001b[32m━━━━━━━━━━━━━━━━━━━━\u001b[0m\u001b[37m\u001b[0m \u001b[1m0s\u001b[0m 26ms/step - accuracy: 0.5952 - loss: 1.0848\n",
            "Epoch 6/30\n",
            "\u001b[1m3/3\u001b[0m \u001b[32m━━━━━━━━━━━━━━━━━━━━\u001b[0m\u001b[37m\u001b[0m \u001b[1m0s\u001b[0m 27ms/step - accuracy: 0.6107 - loss: 1.0711\n",
            "Epoch 7/30\n",
            "\u001b[1m3/3\u001b[0m \u001b[32m━━━━━━━━━━━━━━━━━━━━\u001b[0m\u001b[37m\u001b[0m \u001b[1m0s\u001b[0m 28ms/step - accuracy: 0.7417 - loss: 1.0403\n",
            "Epoch 8/30\n",
            "\u001b[1m3/3\u001b[0m \u001b[32m━━━━━━━━━━━━━━━━━━━━\u001b[0m\u001b[37m\u001b[0m \u001b[1m0s\u001b[0m 26ms/step - accuracy: 0.6938 - loss: 0.9858\n",
            "Epoch 9/30\n",
            "\u001b[1m3/3\u001b[0m \u001b[32m━━━━━━━━━━━━━━━━━━━━\u001b[0m\u001b[37m\u001b[0m \u001b[1m0s\u001b[0m 26ms/step - accuracy: 0.6849 - loss: 0.8703\n",
            "Epoch 10/30\n",
            "\u001b[1m3/3\u001b[0m \u001b[32m━━━━━━━━━━━━━━━━━━━━\u001b[0m\u001b[37m\u001b[0m \u001b[1m0s\u001b[0m 28ms/step - accuracy: 0.6319 - loss: 0.7237\n",
            "Epoch 11/30\n",
            "\u001b[1m3/3\u001b[0m \u001b[32m━━━━━━━━━━━━━━━━━━━━\u001b[0m\u001b[37m\u001b[0m \u001b[1m0s\u001b[0m 26ms/step - accuracy: 0.6693 - loss: 0.5643\n",
            "Epoch 12/30\n",
            "\u001b[1m3/3\u001b[0m \u001b[32m━━━━━━━━━━━━━━━━━━━━\u001b[0m\u001b[37m\u001b[0m \u001b[1m0s\u001b[0m 26ms/step - accuracy: 0.6693 - loss: 0.4636\n",
            "Epoch 13/30\n",
            "\u001b[1m3/3\u001b[0m \u001b[32m━━━━━━━━━━━━━━━━━━━━\u001b[0m\u001b[37m\u001b[0m \u001b[1m0s\u001b[0m 28ms/step - accuracy: 0.8552 - loss: 0.3557\n",
            "Epoch 14/30\n",
            "\u001b[1m3/3\u001b[0m \u001b[32m━━━━━━━━━━━━━━━━━━━━\u001b[0m\u001b[37m\u001b[0m \u001b[1m0s\u001b[0m 27ms/step - accuracy: 0.9510 - loss: 0.3293\n",
            "Epoch 15/30\n",
            "\u001b[1m3/3\u001b[0m \u001b[32m━━━━━━━━━━━━━━━━━━━━\u001b[0m\u001b[37m\u001b[0m \u001b[1m0s\u001b[0m 33ms/step - accuracy: 0.9582 - loss: 0.1909\n",
            "Epoch 16/30\n",
            "\u001b[1m3/3\u001b[0m \u001b[32m━━━━━━━━━━━━━━━━━━━━\u001b[0m\u001b[37m\u001b[0m \u001b[1m0s\u001b[0m 26ms/step - accuracy: 0.9543 - loss: 0.1372\n",
            "Epoch 17/30\n",
            "\u001b[1m3/3\u001b[0m \u001b[32m━━━━━━━━━━━━━━━━━━━━\u001b[0m\u001b[37m\u001b[0m \u001b[1m0s\u001b[0m 26ms/step - accuracy: 0.9482 - loss: 0.1102\n",
            "Epoch 18/30\n",
            "\u001b[1m3/3\u001b[0m \u001b[32m━━━━━━━━━━━━━━━━━━━━\u001b[0m\u001b[37m\u001b[0m \u001b[1m0s\u001b[0m 26ms/step - accuracy: 0.9655 - loss: 0.0703\n",
            "Epoch 19/30\n",
            "\u001b[1m3/3\u001b[0m \u001b[32m━━━━━━━━━━━━━━━━━━━━\u001b[0m\u001b[37m\u001b[0m \u001b[1m0s\u001b[0m 27ms/step - accuracy: 0.9905 - loss: 0.0330\n",
            "Epoch 20/30\n",
            "\u001b[1m3/3\u001b[0m \u001b[32m━━━━━━━━━━━━━━━━━━━━\u001b[0m\u001b[37m\u001b[0m \u001b[1m0s\u001b[0m 26ms/step - accuracy: 0.9905 - loss: 0.0240\n",
            "Epoch 21/30\n",
            "\u001b[1m3/3\u001b[0m \u001b[32m━━━━━━━━━━━━━━━━━━━━\u001b[0m\u001b[37m\u001b[0m \u001b[1m0s\u001b[0m 26ms/step - accuracy: 1.0000 - loss: 0.0077\n",
            "Epoch 22/30\n",
            "\u001b[1m3/3\u001b[0m \u001b[32m━━━━━━━━━━━━━━━━━━━━\u001b[0m\u001b[37m\u001b[0m \u001b[1m0s\u001b[0m 29ms/step - accuracy: 1.0000 - loss: 0.0045\n",
            "Epoch 23/30\n",
            "\u001b[1m3/3\u001b[0m \u001b[32m━━━━━━━━━━━━━━━━━━━━\u001b[0m\u001b[37m\u001b[0m \u001b[1m0s\u001b[0m 27ms/step - accuracy: 1.0000 - loss: 0.0021\n",
            "Epoch 24/30\n",
            "\u001b[1m3/3\u001b[0m \u001b[32m━━━━━━━━━━━━━━━━━━━━\u001b[0m\u001b[37m\u001b[0m \u001b[1m0s\u001b[0m 30ms/step - accuracy: 1.0000 - loss: 9.2416e-04\n",
            "Epoch 25/30\n",
            "\u001b[1m3/3\u001b[0m \u001b[32m━━━━━━━━━━━━━━━━━━━━\u001b[0m\u001b[37m\u001b[0m \u001b[1m0s\u001b[0m 27ms/step - accuracy: 1.0000 - loss: 4.0369e-04\n",
            "Epoch 26/30\n",
            "\u001b[1m3/3\u001b[0m \u001b[32m━━━━━━━━━━━━━━━━━━━━\u001b[0m\u001b[37m\u001b[0m \u001b[1m0s\u001b[0m 26ms/step - accuracy: 1.0000 - loss: 3.9881e-04\n",
            "Epoch 27/30\n",
            "\u001b[1m3/3\u001b[0m \u001b[32m━━━━━━━━━━━━━━━━━━━━\u001b[0m\u001b[37m\u001b[0m \u001b[1m0s\u001b[0m 28ms/step - accuracy: 1.0000 - loss: 2.0183e-04\n",
            "Epoch 28/30\n",
            "\u001b[1m3/3\u001b[0m \u001b[32m━━━━━━━━━━━━━━━━━━━━\u001b[0m\u001b[37m\u001b[0m \u001b[1m0s\u001b[0m 27ms/step - accuracy: 1.0000 - loss: 1.2629e-04\n",
            "Epoch 29/30\n",
            "\u001b[1m3/3\u001b[0m \u001b[32m━━━━━━━━━━━━━━━━━━━━\u001b[0m\u001b[37m\u001b[0m \u001b[1m0s\u001b[0m 27ms/step - accuracy: 1.0000 - loss: 1.1911e-04\n",
            "Epoch 30/30\n",
            "\u001b[1m3/3\u001b[0m \u001b[32m━━━━━━━━━━━━━━━━━━━━\u001b[0m\u001b[37m\u001b[0m \u001b[1m0s\u001b[0m 25ms/step - accuracy: 1.0000 - loss: 1.1457e-04\n"
          ]
        },
        {
          "output_type": "stream",
          "name": "stderr",
          "text": [
            "WARNING:absl:You are saving your model as an HDF5 file via `model.save()` or `keras.saving.save_model(model)`. This file format is considered legacy. We recommend using instead the native Keras format, e.g. `model.save('my_model.keras')` or `keras.saving.save_model(model, 'my_model.keras')`. \n"
          ]
        }
      ],
      "source": [
        "import tensorflow as tf\n",
        "from tensorflow.keras.preprocessing.text import Tokenizer\n",
        "from tensorflow.keras.preprocessing.sequence import pad_sequences\n",
        "from tensorflow.keras.models import Sequential\n",
        "from tensorflow.keras.layers import Embedding, LSTM, Dense\n",
        "from sklearn.preprocessing import LabelEncoder\n",
        "import numpy as np\n",
        "import json\n",
        "\n",
        "# Step 1: Prepare the data\n",
        "data = [\n",
        "    {\"prompt\": \"Can you predict the future sales using this dataset?\", \"intent\": \"predict\"},\n",
        "    {\"prompt\": \"Give me a complete analysis of this file\", \"intent\": \"analyse\"},\n",
        "    {\"prompt\": \"Draw a chart of profit over time\", \"intent\": \"chart\"},\n",
        "    {\"prompt\": \"Show me graphs related to expenses and revenue\", \"intent\": \"chart\"},\n",
        "    {\"prompt\": \"How did we perform last quarter?\", \"intent\": \"analyse\"},\n",
        "    {\"prompt\": \"Predict the next month’s revenue\", \"intent\": \"predict\"},\n",
        "    {\"prompt\": \"Analyze the trends in the dataset\", \"intent\": \"analyse\"},\n",
        "    {\"prompt\": \"Create a bar graph for total sales\", \"intent\": \"chart\"},\n",
        "    {\"prompt\": \"What can we learn from this data?\", \"intent\": \"analyse\"},\n",
        "    {\"prompt\": \"Estimate the demand for next week\", \"intent\": \"predict\"},\n",
        "    {\"prompt\": \"Show a pie chart of category-wise sales\", \"intent\": \"chart\"},\n",
        "    {\"prompt\": \"Give an overview analysis\", \"intent\": \"analyse\"},\n",
        "    {\"prompt\": \"Forecast the product demand\", \"intent\": \"predict\"},\n",
        "    {\"prompt\": \"Draw a line chart of sales per month\", \"intent\": \"chart\"},\n",
        "    {\"prompt\": \"Summarize the dataset's performance\", \"intent\": \"analyse\"},\n",
        "    {\"prompt\": \"Predict upcoming trends from the data\", \"intent\": \"predict\"},\n",
        "    {\"prompt\": \"Display a histogram of purchase frequencies\", \"intent\": \"chart\"},\n",
        "    {\"prompt\": \"Interpret the customer behavior shown here\", \"intent\": \"analyse\"},\n",
        "    {\"prompt\": \"Anticipate next quarter's performance\", \"intent\": \"predict\"},\n",
        "    {\"prompt\": \"Make a scatter plot of revenue vs time\", \"intent\": \"chart\"},\n",
        "    {\"prompt\": \"Find insights from this CSV file\", \"intent\": \"analyse\"},\n",
        "    {\"prompt\": \"Will the profit increase next month?\", \"intent\": \"predict\"},\n",
        "    {\"prompt\": \"Chart the number of units sold by category\", \"intent\": \"chart\"},\n",
        "    {\"prompt\": \"Evaluate this dataset in detail\", \"intent\": \"analyse\"},\n",
        "    {\"prompt\": \"Can you guess next week’s sales?\", \"intent\": \"predict\"},\n",
        "    {\"prompt\": \"Graph the changes in costs over time\", \"intent\": \"chart\"},\n",
        "    {\"prompt\": \"Provide an in-depth analysis of this report\", \"intent\": \"analyse\"},\n",
        "    {\"prompt\": \"Predict the value of shares next month\", \"intent\": \"predict\"},\n",
        "    {\"prompt\": \"Make a visual plot for sales data\", \"intent\": \"chart\"},\n",
        "    {\"prompt\": \"What does this data tell us?\", \"intent\": \"analyse\"},\n",
        "    {\"prompt\": \"Generate predictions based on this dataset\", \"intent\": \"predict\"},\n",
        "    {\"prompt\": \"Break down the sales performance by region\", \"intent\": \"analyse\"},\n",
        "    {\"prompt\": \"Show me a line graph for yearly profits\", \"intent\": \"chart\"},\n",
        "    {\"prompt\": \"Analyze customer churn trends\", \"intent\": \"analyse\"},\n",
        "    {\"prompt\": \"Can you forecast the next quarter’s earnings?\", \"intent\": \"predict\"},\n",
        "    {\"prompt\": \"Visualize the sales distribution\", \"intent\": \"chart\"},\n",
        "    {\"prompt\": \"Give me a detailed report of losses\", \"intent\": \"analyse\"},\n",
        "    {\"prompt\": \"Plot sales against time in a graph\", \"intent\": \"chart\"},\n",
        "    {\"prompt\": \"Estimate future growth trends\", \"intent\": \"predict\"},\n",
        "    {\"prompt\": \"Interpret the financial data\", \"intent\": \"analyse\"},\n",
        "    {\"prompt\": \"Draw a graph showing monthly income\", \"intent\": \"chart\"},\n",
        "    {\"prompt\": \"Predict user engagement for next week\", \"intent\": \"predict\"},\n",
        "    {\"prompt\": \"Can you give an executive summary?\", \"intent\": \"analyse\"},\n",
        "    {\"prompt\": \"Make a column chart for product comparison\", \"intent\": \"chart\"},\n",
        "    {\"prompt\": \"Forecast inventory requirements\", \"intent\": \"predict\"},\n",
        "    {\"prompt\": \"Show comparative graphs for revenue vs expenses\", \"intent\": \"chart\"},\n",
        "    {\"prompt\": \"Provide insights into purchase patterns\", \"intent\": \"analyse\"},\n",
        "    {\"prompt\": \"Project next year's market growth\", \"intent\": \"predict\"},\n",
        "    {\"prompt\": \"Make a visual representation of the top 5 products\", \"intent\": \"chart\"},\n",
        "    {\"prompt\": \"Analyze this data for any patterns\", \"intent\": \"analyse\"},\n",
        "    {\"prompt\": \"What do you expect next quarter?\", \"intent\": \"predict\"},\n",
        "    {\"prompt\": \"Create a visual chart for the current performance\", \"intent\": \"chart\"},\n",
        "    {\"prompt\": \"Summarize the key metrics from this file\", \"intent\": \"analyse\"},\n",
        "    {\"prompt\": \"Can you estimate the upcoming revenue spike?\", \"intent\": \"predict\"},\n",
        "    {\"prompt\": \"Make a graph showing ROI across months\", \"intent\": \"chart\"},\n",
        "    {\"prompt\": \"Interpret and explain this dataset\", \"intent\": \"analyse\"},\n",
        "    {\"prompt\": \"Predict how the trend will continue\", \"intent\": \"predict\"},\n",
        "    {\"prompt\": \"Visualize revenue breakdown by department\", \"intent\": \"chart\"},\n",
        "    {\"prompt\": \"What story does this data tell?\", \"intent\": \"analyse\"},\n",
        "    {\"prompt\": \"Can you forecast the demand for each region?\", \"intent\": \"predict\"},\n",
        "    {\"prompt\": \"Yo, what’s going on in this CSV?\", \"intent\": \"analyse\"},\n",
        "    {\"prompt\": \"Plot something fancy\", \"intent\": \"chart\"},\n",
        "    {\"prompt\": \"Hit me with a prediction\", \"intent\": \"predict\"},\n",
        "    {\"prompt\": \"What do the numbers whisper to you?\", \"intent\": \"analyse\"},\n",
        "    {\"prompt\": \"Spin some graphs for me\", \"intent\": \"chart\"},\n",
        "    {\"prompt\": \"Got any clues for the future?\", \"intent\": \"predict\"},\n",
        "    {\"prompt\": \"Cook up a graph, please\", \"intent\": \"chart\"},\n",
        "    {\"prompt\": \"So… what’s the tea here?\", \"intent\": \"analyse\"},\n",
        "    {\"prompt\": \"Tell me what’s next based on this mess\", \"intent\": \"predict\"},\n",
        "    {\"prompt\": \"Give me some tasty visuals\", \"intent\": \"chart\"},\n",
        "    {\"prompt\": \"What's the story behind this dataset?\", \"intent\": \"analyse\"},\n",
        "    {\"prompt\": \"Tell me something interesting from the file\", \"intent\": \"analyse\"},\n",
        "    {\"prompt\": \"Show the trends and estimate the future performance\", \"intent\": \"predict\"},\n",
        "    {\"prompt\": \"Any charts that might help me understand this?\", \"intent\": \"chart\"},\n",
        "    {\"prompt\": \"Reveal the insights and make a few guesses about next quarter\", \"intent\": \"predict\"},\n",
        "    {\"prompt\": \"Draw visuals and give a summary\", \"intent\": \"chart\"},\n",
        "    {\"prompt\": \"How does it look?\", \"intent\": \"analyse\"},\n",
        "    {\"prompt\": \"Can you break it down with visuals?\", \"intent\": \"chart\"},\n",
        "    {\"prompt\": \"Give a visual forecast\", \"intent\": \"predict\"},\n",
        "    {\"prompt\": \"Make it easier to understand with some graphs\", \"intent\": \"chart\"},\n",
        "\n",
        "    {\"prompt\": \"Yo, what’s going on in this CSV?\", \"intent\": \"analyse\"},\n",
        "    {\"prompt\": \"Plot something fancy\", \"intent\": \"chart\"},\n",
        "    {\"prompt\": \"Hit me with a prediction\", \"intent\": \"predict\"},\n",
        "    {\"prompt\": \"What do the numbers whisper to you?\", \"intent\": \"analyse\"},\n",
        "    {\"prompt\": \"Spin some graphs for me\", \"intent\": \"chart\"},\n",
        "    {\"prompt\": \"Got any clues for the future?\", \"intent\": \"predict\"},\n",
        "    {\"prompt\": \"Cook up a graph, please\", \"intent\": \"chart\"},\n",
        "    {\"prompt\": \"So… what’s the tea here?\", \"intent\": \"analyse\"},\n",
        "    {\"prompt\": \"Tell me what’s next based on this mess\", \"intent\": \"predict\"},\n",
        "    {\"prompt\": \"Give me some tasty visuals\", \"intent\": \"chart\"},\n",
        "    {\"prompt\": \"Could you explore the underlying patterns and show any visual support if needed?\", \"intent\": \"analyse\"},\n",
        "    {\"prompt\": \"How did we perform last quarter?\", \"intent\": \"analyse\"},\n",
        "    {\"prompt\": \"Predict the next month’s revenue\", \"intent\": \"predict\"},\n",
        "    {\"prompt\": \"Analyze the trends in the dataset\", \"intent\": \"analyse\"},\n",
        "    {\"prompt\": \"Create a bar graph for total sales\", \"intent\": \"chart\"},\n",
        "    {\"prompt\": \"What can we learn from this data?\", \"intent\": \"analyse\"},\n",
        "    {\"prompt\": \"Estimate the demand for next week\", \"intent\": \"predict\"},\n",
        "    {\"prompt\": \"Show a pie chart of category-wise sales\", \"intent\": \"chart\"},\n",
        "    {\"prompt\": \"Give an overview analysis\", \"intent\": \"analyse\"},\n",
        "]\n",
        "\n",
        "texts = [item[\"prompt\"] for item in data]\n",
        "labels = [item[\"intent\"] for item in data]\n",
        "\n",
        "# Step 2: Tokenize the text\n",
        "tokenizer = Tokenizer(num_words=1000, oov_token=\"<OOV>\")\n",
        "tokenizer.fit_on_texts(texts)\n",
        "sequences = tokenizer.texts_to_sequences(texts)\n",
        "padded = pad_sequences(sequences, padding='post')\n",
        "\n",
        "# Step 3: Encode labels\n",
        "label_encoder = LabelEncoder()\n",
        "encoded_labels = label_encoder.fit_transform(labels)\n",
        "\n",
        "# Step 4: Build the model\n",
        "model = Sequential([\n",
        "    Embedding(input_dim=1000, output_dim=16, input_length=padded.shape[1]),\n",
        "    LSTM(128),\n",
        "    Dense(64, activation='relu'),\n",
        "    Dense(32, activation='relu'),\n",
        "    Dense(3, activation='softmax')  # 3 intents: predict, analyse, chart\n",
        "])\n",
        "\n",
        "model.compile(optimizer='adam', loss='sparse_categorical_crossentropy', metrics=['accuracy'])\n",
        "model.summary()\n",
        "\n",
        "# Step 5: Train the model\n",
        "model.fit(padded, np.array(encoded_labels), epochs=30)\n",
        "\n",
        "# Step 6: Save model and tokenizer\n",
        "model.save(\"intent_model.h5\")\n",
        "\n",
        "# Save tokenizer and label encoder\n",
        "with open(\"tokenizer.json\", \"w\") as f:\n",
        "    json.dump(tokenizer.to_json(), f)\n",
        "\n",
        "with open(\"labels.npy\", \"wb\") as f:\n",
        "    np.save(f, label_encoder.classes_)"
      ]
    },
    {
      "cell_type": "code",
      "source": [
        "from tensorflow.keras.models import load_model\n",
        "from tensorflow.keras.preprocessing.sequence import pad_sequences\n",
        "from tensorflow.keras.preprocessing.text import tokenizer_from_json\n",
        "import numpy as np\n",
        "import json\n",
        "\n",
        "# Load model\n",
        "model = load_model(\"intent_model.h5\")\n",
        "\n",
        "# Load tokenizer\n",
        "with open(\"tokenizer.json\") as f:\n",
        "    data = json.load(f)\n",
        "    tokenizer = tokenizer_from_json(data)\n",
        "\n",
        "# Load label encoder\n",
        "label_classes = np.load(\"labels.npy\", allow_pickle=True)\n",
        "\n",
        "# Predict on new input\n",
        "prompt = \"Could you explore the underlying patterns and show any visual support if needed?\"\n",
        "sequence = tokenizer.texts_to_sequences([prompt])\n",
        "padded = pad_sequences(sequence, maxlen=10, padding='post')  # use same maxlen as training\n",
        "\n",
        "pred = model.predict(padded)\n",
        "pred_label = label_classes[np.argmax(pred)]\n",
        "print(f\"Predicted intent: {pred_label}\")"
      ],
      "metadata": {
        "colab": {
          "base_uri": "https://localhost:8080/"
        },
        "id": "B3e0oG25cv_M",
        "outputId": "7cfa2b8a-2109-4030-f9b0-513df6a2e841"
      },
      "execution_count": null,
      "outputs": [
        {
          "output_type": "stream",
          "name": "stderr",
          "text": [
            "WARNING:absl:Compiled the loaded model, but the compiled metrics have yet to be built. `model.compile_metrics` will be empty until you train or evaluate the model.\n"
          ]
        },
        {
          "output_type": "stream",
          "name": "stdout",
          "text": [
            "\u001b[1m1/1\u001b[0m \u001b[32m━━━━━━━━━━━━━━━━━━━━\u001b[0m\u001b[37m\u001b[0m \u001b[1m0s\u001b[0m 323ms/step\n",
            "Predicted intent: predict\n"
          ]
        }
      ]
    }
  ]
}